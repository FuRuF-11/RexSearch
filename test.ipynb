{
 "cells": [
  {
   "cell_type": "code",
   "execution_count": null,
   "metadata": {},
   "outputs": [],
   "source": [
    "import os\n",
    "import sys\n",
    "import re\n",
    "\n",
    "import numpy as np\n",
    "import matplotlib.pyplot as plt\n",
    "import pandas as pd\n",
    "\n",
    "import torch.nn as nn\n",
    "import torch.nn.functional as F\n",
    "import torch\n",
    "import torchvision.models as models\n",
    "\n",
    "from collections import OrderedDict"
   ]
  },
  {
   "cell_type": "code",
   "execution_count": null,
   "metadata": {},
   "outputs": [],
   "source": [
    "resnet = models.resnet50(pretrained=True)"
   ]
  },
  {
   "cell_type": "code",
   "execution_count": null,
   "metadata": {},
   "outputs": [],
   "source": [
    "def get_layers(model, layer_specs):\n",
    "    layers = []\n",
    "    for name, layer in model.named_modules():\n",
    "        for spec in layer_specs:\n",
    "            if spec in name:\n",
    "                if isinstance(layer, nn.Sequential):\n",
    "                    for sub_name, sub_layer in layer.named_children():\n",
    "                        full_name = f\"{name}.{sub_name}\"\n",
    "                        if spec == full_name:\n",
    "                            layers.append((full_name, sub_layer))\n",
    "                else:\n",
    "                    layers.append((name, layer))\n",
    "    return nn.Sequential(OrderedDict(layers))\n"
   ]
  },
  {
   "cell_type": "code",
   "execution_count": null,
   "metadata": {},
   "outputs": [],
   "source": [
    "# 此处的模型的最后的最后一层还需要修改为resnet对应的层\n",
    "\n",
    "class CustomModel(nn.Module):\n",
    "    def __init__(self, base_model, layer_names, num_classes):\n",
    "        super(CustomModel, self).__init__()\n",
    "        self.features = get_layers(base_model, layer_names)\n",
    "        \n",
    "        # 获取最后一层的输出特征数\n",
    "        with torch.no_grad():\n",
    "            dummy_input = torch.randn(1, 3, 224, 224)\n",
    "            out = self.features(dummy_input)\n",
    "            num_features = out.view(-1).size(0)\n",
    "        \n",
    "        self.classifier = nn.Sequential(\n",
    "            nn.Linear(num_features, 256),\n",
    "            nn.ReLU(),\n",
    "            nn.Linear(256, num_classes)\n",
    "        )\n",
    "        self.frozen()\n",
    "    \n",
    "    def forward(self, x):\n",
    "        x = self.features(x)\n",
    "        x = x.view(x.size(0), -1)\n",
    "        x = self.classifier(x)\n",
    "        return x\n",
    "\n",
    "    def frozen():\n",
    "        for param in self.features.parameters():\n",
    "            param.requires_grad = False        \n"
   ]
  },
  {
   "cell_type": "code",
   "execution_count": null,
   "metadata": {},
   "outputs": [],
   "source": [
    "model = CustomModel(resnet, [\n",
    "    'conv1', 'bn1', 'relu', 'maxpool',\n",
    "    'layer1.0.conv3', 'layer1.1.conv3', 'layer1.2.conv3',  # layer1的所有bottleneck的conv3\n",
    "    'layer2.0.conv3', 'layer2.1.conv3',                    # layer2的前两个bottleneck的conv3\n",
    "    'layer3.0.conv3'                                       # layer3的第一个bottleneck的conv3\n",
    "], num_classes=10)\n",
    "\n",
    "\n"
   ]
  },
  {
   "cell_type": "code",
   "execution_count": null,
   "metadata": {},
   "outputs": [],
   "source": []
  },
  {
   "cell_type": "code",
   "execution_count": null,
   "metadata": {},
   "outputs": [],
   "source": []
  },
  {
   "cell_type": "code",
   "execution_count": null,
   "metadata": {},
   "outputs": [],
   "source": []
  }
 ],
 "metadata": {
  "kernelspec": {
   "display_name": "lab2024",
   "language": "python",
   "name": "python3"
  },
  "language_info": {
   "name": "python",
   "version": "3.10.14"
  }
 },
 "nbformat": 4,
 "nbformat_minor": 2
}
